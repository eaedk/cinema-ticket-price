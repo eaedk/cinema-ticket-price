{
 "cells": [
  {
   "cell_type": "code",
   "execution_count": null,
   "metadata": {},
   "outputs": [],
   "source": [
    "# import datetime\n",
    "# import dateutil\n",
    "\n",
    "# def make_url(date):\n",
    "#     \"\"\"Return the url for our API call based on date.\"\"\"\n",
    "\n",
    "#     if isinstance(date, str):\n",
    "#         date = dateutil.parser.parse(date).date()\n",
    "#     elif not isinstance(date, datetime.date):\n",
    "#         raise ValueError(\"must be a date\")\n",
    "#     if date >= datetime.date(2020, 1, 1):\n",
    "#         return f\"https://api.example.com/v2/{date.year}/{date.month}/{date.day}\"\n",
    "#     else:\n",
    "#         return f\"https://api.example.com/v1/{date:%Y-%m-%d}\""
   ]
  },
  {
   "cell_type": "code",
   "execution_count": null,
   "metadata": {},
   "outputs": [],
   "source": [
    "def say_hello():\n",
    "    print(\"Hello!\")"
   ]
  },
  {
   "cell_type": "code",
   "execution_count": null,
   "metadata": {},
   "outputs": [],
   "source": [
    "def value():\n",
    "    return 10"
   ]
  }
 ],
 "metadata": {
  "kernelspec": {
   "display_name": "Python 3.10.5 64-bit (windows store)",
   "language": "python",
   "name": "python3"
  },
  "language_info": {
   "name": "python",
   "version": "3.10.5"
  },
  "orig_nbformat": 4,
  "vscode": {
   "interpreter": {
    "hash": "8d3a06df2823a66d95fe8f341fd415364609d86e2a97557202419aeb6b2e6f61"
   }
  }
 },
 "nbformat": 4,
 "nbformat_minor": 2
}
